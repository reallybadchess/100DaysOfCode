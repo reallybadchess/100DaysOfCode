{
 "cells": [
  {
   "cell_type": "markdown",
   "metadata": {},
   "source": [
    "## Rock, Paper, Scissors\n",
    "\n",
    "This program allows you to play RSP against the computer. "
   ]
  },
  {
   "cell_type": "code",
   "execution_count": null,
   "metadata": {},
   "outputs": [],
   "source": [
    "#Import random module\n",
    "import random"
   ]
  },
  {
   "cell_type": "code",
   "execution_count": null,
   "metadata": {},
   "outputs": [],
   "source": [
    "rock = '''\n",
    "    _______\n",
    "---'   ____)\n",
    "      (_____)\n",
    "      (_____)\n",
    "      (____)\n",
    "---.__(___)\n",
    "'''\n",
    "\n",
    "paper = '''\n",
    "    _______\n",
    "---'   ____)____\n",
    "          ______)\n",
    "          _______)\n",
    "         _______)\n",
    "---.__________)\n",
    "'''\n",
    "\n",
    "scissors = '''\n",
    "    _______\n",
    "---'   ____)____\n",
    "          ______)\n",
    "       __________)\n",
    "      (____)\n",
    "---.__(___)\n",
    "'''\n",
    "\n",
    "#Write your code below this line 👇\n",
    "\n"
   ]
  },
  {
   "cell_type": "code",
   "execution_count": null,
   "metadata": {},
   "outputs": [],
   "source": [
    "# putting RPS into a list\n",
    "RSP = [rock, paper, scissors]"
   ]
  },
  {
   "cell_type": "code",
   "execution_count": null,
   "metadata": {},
   "outputs": [],
   "source": [
    "#Person and computer need to make a choice\n",
    "computer = random.randint(0,2)\n",
    "person = int(input(\"Choose 0 for rock,  1 for paper, or 2 for scissors. \"))\n",
    "\n",
    "if person == 0:\n",
    "    print(\"Person chose rock:\", rock)\n",
    "\n",
    "elif person == 1:\n",
    "    print(\"Person chose paper:\", paper)\n",
    "\n",
    "elif person == 2:\n",
    "    print(\"Person chose scissors:\", scissors)\n",
    "\n",
    "else:\n",
    "    print(\"Invalid number. You lose\")\n",
    "    \n",
    "    \n",
    "\n",
    "\n",
    "if computer == 0:\n",
    "    print(\"Computer chose rock:\", rock)\n",
    "\n",
    "elif computer == 1:\n",
    "    print(\"Computer chose paper:\", paper)\n",
    "\n",
    "else:\n",
    "    print(\"Computer chose scissors:\", scissors)\n",
    "\n"
   ]
  },
  {
   "cell_type": "code",
   "execution_count": null,
   "metadata": {},
   "outputs": [],
   "source": [
    "# Setting the winning or losing conditions\n",
    "if computer == 2 and person == 0:\n",
    "    print(\"You win.\")\n",
    "elif computer == 0 and person == 1:\n",
    "    print(\"You win.\")\n",
    "elif computer == 1 and person == 2:\n",
    "    print(\"You win.\")\n",
    "elif computer == 0 and person == 2:\n",
    "    print(\"You lose.\")\n",
    "elif computer == 2 and person == 1:\n",
    "    print(\"You lose.\")\n",
    "elif computer == 1 and person == 0:\n",
    "    print(\"You lose.\")\n",
    "elif computer == person:\n",
    "    print(\"Tie.\")\n",
    "else:\n",
    "    print(\"What?\")\n"
   ]
  },
  {
   "cell_type": "code",
   "execution_count": null,
   "metadata": {},
   "outputs": [],
   "source": []
  }
 ],
 "metadata": {
  "kernelspec": {
   "display_name": "Python 3",
   "language": "python",
   "name": "python3"
  },
  "language_info": {
   "codemirror_mode": {
    "name": "ipython",
    "version": 3
   },
   "file_extension": ".py",
   "mimetype": "text/x-python",
   "name": "python",
   "nbconvert_exporter": "python",
   "pygments_lexer": "ipython3",
   "version": "3.8.5"
  }
 },
 "nbformat": 4,
 "nbformat_minor": 4
}
