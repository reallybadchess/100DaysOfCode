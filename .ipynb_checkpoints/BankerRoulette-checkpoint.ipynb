{
 "cells": [
  {
   "cell_type": "markdown",
   "metadata": {},
   "source": [
    "### Who will pay the bill?\n",
    "\n",
    "This program randomly decides who will be paying the bill given a list of names. :)"
   ]
  },
  {
   "cell_type": "code",
   "execution_count": null,
   "metadata": {},
   "outputs": [],
   "source": [
    "#Import the random module\n",
    "import random"
   ]
  },
  {
   "cell_type": "code",
   "execution_count": 2,
   "metadata": {},
   "outputs": [
    {
     "name": "stdout",
     "output_type": "stream",
     "text": [
      "Create a seed number: 4498\n",
      "Give me everybody's names, separated by a comma. Thor, Hawkeye, Banner, Stark, Widow\n",
      "Thor is going to buy the meal today!\n"
     ]
    }
   ],
   "source": [
    "# 🚨 Don't change the code below 👇\n",
    "test_seed = int(input(\"Create a seed number: \"))\n",
    "random.seed(test_seed)\n",
    "\n",
    "# Split string method\n",
    "names_string = input(\"Give me everybody's names, separated by a comma. \")\n",
    "names = names_string.split(\", \")\n",
    "# 🚨 Don't change the code above 👆\n",
    "\n",
    "#Write your code below this line 👇\n",
    "\n",
    "#This assigns a number to the given names\n",
    "rand_name = random.randint(0,len(names))\n",
    "\n",
    "'''\n",
    "The names given are in order and these if/elif statments will select the name who will be paying according\n",
    "the random number selected in the rand_name variable.\n",
    "'''\n",
    "if rand_name == 0:\n",
    "    print(f\"{names[0]} is going to buy the meal today!\")\n",
    "elif rand_name == 1:\n",
    "    print(f\"{names[1]} is going to buy the meal today!\")\n",
    "elif rand_name == 2:\n",
    "    print(f\"{names[2]} is going to buy the meal today!\")\n",
    "elif rand_name == 3:\n",
    "    print(f\"{names[3]} is going to buy the meal today!\")\n",
    "else:\n",
    "    print(f\"{names[4]} is going to buy the meal today!\")"
   ]
  },
  {
   "cell_type": "markdown",
   "metadata": {},
   "source": [
    "This program isn't fair if the range in 'random.randint(0,5)' does not match the names given. For example, the if/else statements only inlcude the names from 0-4. Given 6 names, the last name given is left out and not included in the roulette game.  \n",
    "\n",
    "Given less than 5 names (less than that of the range), the program throws an error: \n",
    "\n",
    "ValueError: invalid literal for int() with base 10:\n",
    "\n",
    "-How to make the program read any number of names?\n"
   ]
  },
  {
   "cell_type": "markdown",
   "metadata": {},
   "source": [
    "#### A modified version!"
   ]
  },
  {
   "cell_type": "code",
   "execution_count": 9,
   "metadata": {},
   "outputs": [
    {
     "name": "stdout",
     "output_type": "stream",
     "text": [
      "Create a seed number: 78223\n",
      "Give me everybody's names, separated by a comma. Marvel, Okoye, Thor, Widow, Banner, Stark, Lang\n",
      "Banner is going to buy the meal today!\n"
     ]
    }
   ],
   "source": [
    "# 🚨 Don't change the code below 👇\n",
    "test_seed = int(input(\"Create a seed number: \"))\n",
    "random.seed(test_seed)\n",
    "\n",
    "# Split string method\n",
    "names_string = input(\"Give me everybody's names, separated by a comma. \")\n",
    "names = names_string.split(\", \")\n",
    "# 🚨 Don't change the code above 👆\n",
    "\n",
    "#Write your code below this line 👇\n",
    "\n",
    "#We can include the len() function!\n",
    "rand_name = random.randint(0,len(names)-1)\n",
    "print(f\"{names[rand_name]} is going to buy the meal today!\")\n",
    "\n"
   ]
  },
  {
   "cell_type": "markdown",
   "metadata": {},
   "source": [
    "#### Even better with less lines of code!"
   ]
  },
  {
   "cell_type": "code",
   "execution_count": 10,
   "metadata": {},
   "outputs": [
    {
     "name": "stdout",
     "output_type": "stream",
     "text": [
      "Create a seed number: 9348\n",
      "Give me everybody's names, separated by a comma. Marvel, Okoye, Thor, Widow, Banner, Stark, Lang\n",
      "Widow is going to buy the meal today!\n"
     ]
    }
   ],
   "source": [
    "# 🚨 Don't change the code below 👇\n",
    "test_seed = int(input(\"Create a seed number: \"))\n",
    "random.seed(test_seed)\n",
    "\n",
    "# Split string method\n",
    "names_string = input(\"Give me everybody's names, separated by a comma. \")\n",
    "names = names_string.split(\", \")\n",
    "# 🚨 Don't change the code above 👆\n",
    "\n",
    "#Write your code below this line 👇\n",
    "\n",
    "# We can use the choice() function\n",
    "\n",
    "they_who_pay = random.choice(names)\n",
    "print(f\"{they_who_pay} is going to buy the meal today!\")"
   ]
  },
  {
   "cell_type": "code",
   "execution_count": null,
   "metadata": {},
   "outputs": [],
   "source": []
  }
 ],
 "metadata": {
  "kernelspec": {
   "display_name": "Python 3",
   "language": "python",
   "name": "python3"
  },
  "language_info": {
   "codemirror_mode": {
    "name": "ipython",
    "version": 3
   },
   "file_extension": ".py",
   "mimetype": "text/x-python",
   "name": "python",
   "nbconvert_exporter": "python",
   "pygments_lexer": "ipython3",
   "version": "3.8.5"
  }
 },
 "nbformat": 4,
 "nbformat_minor": 4
}
