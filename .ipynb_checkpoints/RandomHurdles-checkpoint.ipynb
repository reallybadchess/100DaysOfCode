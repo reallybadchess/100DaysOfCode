{
 "cells": [
  {
   "cell_type": "markdown",
   "metadata": {},
   "source": [
    "## More hurdles!\n",
    "\n",
    "This program allows Robot to jump any randodm order of hurdles until it reaches the goal"
   ]
  },
  {
   "cell_type": "code",
   "execution_count": null,
   "metadata": {},
   "outputs": [],
   "source": [
    "# Previously created functions\n",
    "def turn_right():\n",
    "    turn_left()\n",
    "    turn_left()\n",
    "    turn_left()\n",
    "    \n",
    "def jump_hurdle():\n",
    "    turn_left()\n",
    "    move()\n",
    "    turn_right()\n",
    "    move()\n",
    "    turn_right()\n",
    "    move()\n",
    "    turn_left()\n",
    "\n",
    "while not at_goal():\n",
    "\n",
    "    \n",
    "# front_is_clear()\n",
    "# wall_in_front()\n",
    "# at_goal()\n",
    "    \n",
    "def auto_jump():\n",
    "    while not at_goal():\n",
    "        if not front_is_clear():\n",
    "            jump_hurdle()\n",
    "        else:\n",
    "            move()\n",
    "        \n",
    "\n"
   ]
  },
  {
   "cell_type": "code",
   "execution_count": null,
   "metadata": {},
   "outputs": [],
   "source": [
    "# The auto jump function\n",
    "\n",
    "#These are the given functions we are allowed to use\n",
    "front_is_clear()\n",
    "wall_in_front()\n",
    "at_goal()\n",
    "    \n",
    "def auto_jump():\n",
    "    while not at_goal():\n",
    "        if not front_is_clear():\n",
    "            jump_hurdle()\n",
    "        else:\n",
    "            move()\n",
    "        \n"
   ]
  },
  {
   "cell_type": "code",
   "execution_count": null,
   "metadata": {},
   "outputs": [],
   "source": [
    "# Calling auto_jump()\n",
    "auto_jump()"
   ]
  }
 ],
 "metadata": {
  "kernelspec": {
   "display_name": "Python 3",
   "language": "python",
   "name": "python3"
  },
  "language_info": {
   "codemirror_mode": {
    "name": "ipython",
    "version": 3
   },
   "file_extension": ".py",
   "mimetype": "text/x-python",
   "name": "python",
   "nbconvert_exporter": "python",
   "pygments_lexer": "ipython3",
   "version": "3.8.5"
  }
 },
 "nbformat": 4,
 "nbformat_minor": 4
}
