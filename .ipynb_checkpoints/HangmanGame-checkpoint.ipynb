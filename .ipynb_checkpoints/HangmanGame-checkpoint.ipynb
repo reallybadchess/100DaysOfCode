{
 "cells": [
  {
   "cell_type": "markdown",
   "metadata": {},
   "source": [
    "## This program will allow a person to play Hangman\n"
   ]
  },
  {
   "cell_type": "code",
   "execution_count": 3,
   "metadata": {},
   "outputs": [],
   "source": [
    "#import libraries needed\n",
    "import random"
   ]
  },
  {
   "cell_type": "code",
   "execution_count": 9,
   "metadata": {},
   "outputs": [
    {
     "name": "stdout",
     "output_type": "stream",
     "text": [
      "Please guess a letter.a\n",
      "Wrong!\n",
      "Right!\n",
      "Wrong!\n",
      "Wrong!\n",
      "Wrong!\n",
      "Wrong!\n"
     ]
    }
   ],
   "source": [
    "#Step 1 \n",
    "\n",
    "word_list = [\"aardvark\", \"baboon\", \"camel\"]\n",
    "\n",
    "#TODO-1 - Randomly choose a word from the word_list and assign it to a variable called chosen_word.\n",
    "\n",
    "chosen_word = random.choice(word_list)\n",
    "\n",
    "#TODO-2 - Ask the user to guess a letter and assign their answer to a variable called guess. Make guess lowercase.\n",
    "\n",
    "guess = input(\"Please guess a letter.\").lower()\n",
    "\n",
    "\n",
    "#TODO-3 - Check if the letter the user guessed (guess) is one of the letters in the chosen_word\n",
    "\n",
    "for letter in chosen_word:\n",
    "    if letter == guess:\n",
    "        print('Right!')\n",
    "    else:\n",
    "        print('Wrong!')\n",
    "\n"
   ]
  },
  {
   "cell_type": "code",
   "execution_count": null,
   "metadata": {},
   "outputs": [],
   "source": []
  },
  {
   "cell_type": "code",
   "execution_count": null,
   "metadata": {},
   "outputs": [],
   "source": []
  }
 ],
 "metadata": {
  "kernelspec": {
   "display_name": "Python 3",
   "language": "python",
   "name": "python3"
  },
  "language_info": {
   "codemirror_mode": {
    "name": "ipython",
    "version": 3
   },
   "file_extension": ".py",
   "mimetype": "text/x-python",
   "name": "python",
   "nbconvert_exporter": "python",
   "pygments_lexer": "ipython3",
   "version": "3.8.5"
  }
 },
 "nbformat": 4,
 "nbformat_minor": 4
}
