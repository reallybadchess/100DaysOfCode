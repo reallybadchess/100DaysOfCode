{
 "cells": [
  {
   "cell_type": "markdown",
   "metadata": {},
   "source": [
    "## Welcome to Python Pizza!"
   ]
  },
  {
   "cell_type": "code",
   "execution_count": 2,
   "metadata": {},
   "outputs": [
    {
     "name": "stdout",
     "output_type": "stream",
     "text": [
      "Welcome to Python Pizza Deliveries!\n",
      "What size pizza do you want? S, M, or L M\n",
      "Do you want pepperoni? Y or N Y\n",
      "Do you want extra cheese? Y or N Y\n",
      "Your final bill is: 24\n"
     ]
    }
   ],
   "source": [
    "# 🚨 Don't change the code below 👇\n",
    "print(\"Welcome to Python Pizza Deliveries!\")\n",
    "size = input(\"What size pizza do you want? S, M, or L \")\n",
    "add_pepperoni = input(\"Do you want pepperoni? Y or N \")\n",
    "extra_cheese = input(\"Do you want extra cheese? Y or N \")\n",
    "# 🚨 Don't change the code above 👆\n",
    "\n",
    "#Write your code below this line 👇\n",
    "price = 0\n",
    "\n",
    "if size == \"S\":\n",
    "    price = 15\n",
    "    if add_pepperoni == \"Y\":\n",
    "        price += 2\n",
    "    if extra_cheese == \"Y\":\n",
    "        price += 1\n",
    "        print(f\"Your final bill is: {price}\")\n",
    "elif size == \"M\":\n",
    "    price = 20\n",
    "    if add_pepperoni == \"Y\":\n",
    "        price += 3\n",
    "    if extra_cheese == \"Y\":\n",
    "        price += 1\n",
    "    print(f\"Your final bill is: {price}\")\n",
    "\n",
    "elif size == \"L\":\n",
    "    price = 25\n",
    "    if add_pepperoni == \"Y\":\n",
    "        price += 3\n",
    "    if extra_cheese == \"Y\":\n",
    "        price += 1\n",
    "    print(f\"Your final bill is: ${price}.\")\n",
    "else:\n",
    "    print(\"Well aren't you here for pizza?\")"
   ]
  },
  {
   "cell_type": "code",
   "execution_count": null,
   "metadata": {},
   "outputs": [],
   "source": []
  }
 ],
 "metadata": {
  "kernelspec": {
   "display_name": "Python 3",
   "language": "python",
   "name": "python3"
  },
  "language_info": {
   "codemirror_mode": {
    "name": "ipython",
    "version": 3
   },
   "file_extension": ".py",
   "mimetype": "text/x-python",
   "name": "python",
   "nbconvert_exporter": "python",
   "pygments_lexer": "ipython3",
   "version": "3.8.5"
  }
 },
 "nbformat": 4,
 "nbformat_minor": 4
}
