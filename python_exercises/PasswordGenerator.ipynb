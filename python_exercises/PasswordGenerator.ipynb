{
 "cells": [
  {
   "cell_type": "markdown",
   "metadata": {},
   "source": [
    "## Password generator\n",
    "\n",
    "This program is intended to create random passwords\n",
    "\n",
    "There are two levels, easy and hard.\n",
    "- Easy involves selecting random letters, symbols and numbers in order.\n",
    "    - Ex: yTpS@$43\n",
    "    \n",
    "- Hard involves complete randomness\n",
    "    - Ex: 3y@T4p$S\n",
    "\n",
    "Questions:\n",
    "- Are they actually random?\n",
    "- How is pseudorandomness involved in this?\n",
    " "
   ]
  },
  {
   "cell_type": "code",
   "execution_count": 1,
   "metadata": {},
   "outputs": [],
   "source": [
    "# Importing the random module\n",
    "import random"
   ]
  },
  {
   "cell_type": "code",
   "execution_count": 100,
   "metadata": {},
   "outputs": [
    {
     "name": "stdout",
     "output_type": "stream",
     "text": [
      "Welcome to the PyPassword Generator!\n",
      "How many letters would you like in your password?\n",
      "6\n",
      "How many symbols would you like?\n",
      "4\n",
      "How many numbers would you like?\n",
      "5\n"
     ]
    }
   ],
   "source": [
    "#Password Generator Project\n",
    "\n",
    "# range(0,52)\n",
    "letters = ['a', 'b', 'c', 'd', 'e', 'f', 'g', 'h', 'i', 'j', 'k', 'l', 'm', 'n', 'o', 'p', 'q', 'r', 's', 't', 'u', 'v', 'w', 'x', 'y', 'z', \n",
    "           'A', 'B', 'C', 'D', 'E', 'F', 'G', 'H', 'I', 'J', 'K', 'L', 'M', 'N', 'O', 'P', 'Q', 'R', 'S', 'T', 'U', 'V', 'W', 'X', 'Y', 'Z']\n",
    "numbers = ['0', '1', '2', '3', '4', '5', '6', '7', '8', '9'] # range(0-10)\n",
    "symbols = ['!', '#', '$', '%', '&', '(', ')', '*', '+'] #range(0-9)\n",
    "\n",
    "print(\"Welcome to the PyPassword Generator!\")\n",
    "nr_letters= int(input(\"How many letters would you like in your password?\\n\")) \n",
    "nr_symbols = int(input(f\"How many symbols would you like?\\n\"))\n",
    "nr_numbers = int(input(f\"How many numbers would you like?\\n\"))\n",
    "\n",
    "\n",
    "   "
   ]
  },
  {
   "cell_type": "code",
   "execution_count": 101,
   "metadata": {},
   "outputs": [
    {
     "name": "stdout",
     "output_type": "stream",
     "text": [
      "Your password is: rCgEhp(++$4714\n"
     ]
    }
   ],
   "source": [
    "#Easy method\n",
    "password = ''\n",
    "\n",
    "for item in range(1,nr_letters+1):\n",
    "    password += random.choice(letters)\n",
    "\n",
    "for item in range(1, nr_symbols+1):\n",
    "    password += random.choice(symbols)\n",
    "\n",
    "for item in range(1,nr_numbers):\n",
    "    password += random.choice(numbers)\n",
    "\n",
    "print(f\"Your password is: {password}\")\n",
    "\n"
   ]
  },
  {
   "cell_type": "markdown",
   "metadata": {},
   "source": [
    "#### Give it a try!!"
   ]
  }
 ],
 "metadata": {
  "kernelspec": {
   "display_name": "Python 3",
   "language": "python",
   "name": "python3"
  },
  "language_info": {
   "codemirror_mode": {
    "name": "ipython",
    "version": 3
   },
   "file_extension": ".py",
   "mimetype": "text/x-python",
   "name": "python",
   "nbconvert_exporter": "python",
   "pygments_lexer": "ipython3",
   "version": "3.8.5"
  }
 },
 "nbformat": 4,
 "nbformat_minor": 4
}
