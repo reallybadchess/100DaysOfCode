{
 "cells": [
  {
   "cell_type": "code",
   "execution_count": 11,
   "metadata": {},
   "outputs": [
    {
     "name": "stdout",
     "output_type": "stream",
     "text": [
      "Welcome to the Love Calculator!\n",
      "What is your name? \n",
      "raphael marquez\n",
      "What is their name? \n",
      "jennifer simms\n",
      "Your score is 85\n"
     ]
    }
   ],
   "source": [
    "# 🚨 Don't change the code below 👇\n",
    "print(\"Welcome to the Love Calculator!\")\n",
    "name1 = input(\"What is your name? \\n\")\n",
    "name2 = input(\"What is their name? \\n\")\n",
    "# 🚨 Don't change the code above 👆\n",
    "\n",
    "#Write your code below this line 👇\n",
    "\n",
    "yourName = name1.lower()\n",
    "theirName = name2.lower()\n",
    "ourName = yourName + theirName\n",
    "\n",
    "#Counting the letters t, r, u, and e.\n",
    "t = ourName.count(\"t\")\n",
    "r = ourName.count(\"r\")\n",
    "u = ourName.count(\"u\")\n",
    "e = ourName.count(\"e\")\n",
    "\n",
    "true = str(t + r+ u + e)\n",
    "\n",
    "#Couting the letters l, o, v, and e.\n",
    "l = ourName.count(\"l\")\n",
    "o = ourName.count(\"o\")\n",
    "v = ourName.count(\"v\")\n",
    "e = ourName.count(\"e\")\n",
    "\n",
    "love = str(l + o + v + e)\n",
    "\n",
    "#Combining them into a number\n",
    "truelove = int(true + love)\n",
    "\n",
    "#If/Else statements to give compatibility\n",
    "if (truelove < 10) or (truelove > 90):\n",
    "    print(f\"Your score is {truelove}, you go together like coke and mentos.\")\n",
    "elif (truelove >= 40) and (truelove <=50):\n",
    "    print(f\"Your score is {truelove}, you are alright together.\")\n",
    "else:\n",
    "    print(f\"Your score is {truelove}\")"
   ]
  },
  {
   "cell_type": "code",
   "execution_count": null,
   "metadata": {},
   "outputs": [],
   "source": []
  }
 ],
 "metadata": {
  "kernelspec": {
   "display_name": "Python 3",
   "language": "python",
   "name": "python3"
  },
  "language_info": {
   "codemirror_mode": {
    "name": "ipython",
    "version": 3
   },
   "file_extension": ".py",
   "mimetype": "text/x-python",
   "name": "python",
   "nbconvert_exporter": "python",
   "pygments_lexer": "ipython3",
   "version": "3.8.5"
  }
 },
 "nbformat": 4,
 "nbformat_minor": 4
}
