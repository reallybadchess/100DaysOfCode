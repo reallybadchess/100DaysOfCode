{
 "cells": [
  {
   "cell_type": "markdown",
   "metadata": {},
   "source": [
    "# PostgreSQL with Python"
   ]
  },
  {
   "cell_type": "code",
   "execution_count": 19,
   "metadata": {},
   "outputs": [],
   "source": [
    "secret = 'password'"
   ]
  },
  {
   "cell_type": "code",
   "execution_count": 20,
   "metadata": {},
   "outputs": [],
   "source": [
    "import psycopg2 as pg2"
   ]
  },
  {
   "cell_type": "code",
   "execution_count": 21,
   "metadata": {},
   "outputs": [],
   "source": [
    "conn = pg2.connect(database='dvdrental',user='postgres', password = secret)"
   ]
  },
  {
   "cell_type": "code",
   "execution_count": 22,
   "metadata": {},
   "outputs": [],
   "source": [
    "# now that connection is established we need to retrieve the cursor\n",
    "cur = conn.cursor()"
   ]
  },
  {
   "cell_type": "code",
   "execution_count": 23,
   "metadata": {},
   "outputs": [],
   "source": [
    "# applying execute to the cursor\n",
    "cur.execute('SELECT * FROM payment')"
   ]
  },
  {
   "cell_type": "code",
   "execution_count": 24,
   "metadata": {},
   "outputs": [
    {
     "data": {
      "text/plain": [
       "(17503,\n",
       " 341,\n",
       " 2,\n",
       " 1520,\n",
       " Decimal('7.99'),\n",
       " datetime.datetime(2007, 2, 15, 22, 25, 46, 996577))"
      ]
     },
     "execution_count": 24,
     "metadata": {},
     "output_type": "execute_result"
    }
   ],
   "source": [
    "# returns first row of the data\n",
    "cur.fetchone()"
   ]
  },
  {
   "cell_type": "code",
   "execution_count": 26,
   "metadata": {},
   "outputs": [
    {
     "data": {
      "text/plain": [
       "[(17514,\n",
       "  343,\n",
       "  2,\n",
       "  1879,\n",
       "  Decimal('0.99'),\n",
       "  datetime.datetime(2007, 2, 17, 1, 26, 0, 996577)),\n",
       " (17515,\n",
       "  343,\n",
       "  2,\n",
       "  1922,\n",
       "  Decimal('0.99'),\n",
       "  datetime.datetime(2007, 2, 17, 4, 32, 51, 996577)),\n",
       " (17516,\n",
       "  343,\n",
       "  2,\n",
       "  2461,\n",
       "  Decimal('6.99'),\n",
       "  datetime.datetime(2007, 2, 18, 18, 26, 38, 996577)),\n",
       " (17517,\n",
       "  343,\n",
       "  1,\n",
       "  2980,\n",
       "  Decimal('8.99'),\n",
       "  datetime.datetime(2007, 2, 20, 7, 3, 29, 996577)),\n",
       " (17518,\n",
       "  343,\n",
       "  1,\n",
       "  3407,\n",
       "  Decimal('0.99'),\n",
       "  datetime.datetime(2007, 2, 21, 14, 42, 28, 996577))]"
      ]
     },
     "execution_count": 26,
     "metadata": {},
     "output_type": "execute_result"
    }
   ],
   "source": [
    "# here fetchmany takes the argument of an int to specify how many rows to fetch\n",
    "\n",
    "cur.fetchmany(5)"
   ]
  },
  {
   "cell_type": "code",
   "execution_count": 27,
   "metadata": {},
   "outputs": [],
   "source": [
    "# and fetchall() to retrieve all rows\n",
    "#cur.fetchall()"
   ]
  },
  {
   "cell_type": "code",
   "execution_count": 28,
   "metadata": {},
   "outputs": [],
   "source": [
    "# We can assign to a variable\n",
    "data = cur.fetchmany(20)\n"
   ]
  },
  {
   "cell_type": "code",
   "execution_count": 29,
   "metadata": {},
   "outputs": [
    {
     "data": {
      "text/plain": [
       "(17524,\n",
       " 345,\n",
       " 2,\n",
       " 1550,\n",
       " Decimal('0.99'),\n",
       " datetime.datetime(2007, 2, 16, 0, 27, 1, 996577))"
      ]
     },
     "execution_count": 29,
     "metadata": {},
     "output_type": "execute_result"
    }
   ],
   "source": [
    "# We now have a list that we can index from\n",
    "data[5]"
   ]
  },
  {
   "cell_type": "code",
   "execution_count": 38,
   "metadata": {},
   "outputs": [
    {
     "data": {
      "text/plain": [
       "Decimal('3.99')"
      ]
     },
     "execution_count": 38,
     "metadata": {},
     "output_type": "execute_result"
    }
   ],
   "source": [
    "# and we can keep indexing to get any data point we want\n",
    "data[0][4]"
   ]
  },
  {
   "cell_type": "code",
   "execution_count": 39,
   "metadata": {},
   "outputs": [],
   "source": [
    "# once done communicating with the DB you should close the connection using .close()\n",
    "\n",
    "conn.close()"
   ]
  },
  {
   "cell_type": "code",
   "execution_count": null,
   "metadata": {},
   "outputs": [],
   "source": []
  }
 ],
 "metadata": {
  "kernelspec": {
   "display_name": "Python 3",
   "language": "python",
   "name": "python3"
  },
  "language_info": {
   "codemirror_mode": {
    "name": "ipython",
    "version": 3
   },
   "file_extension": ".py",
   "mimetype": "text/x-python",
   "name": "python",
   "nbconvert_exporter": "python",
   "pygments_lexer": "ipython3",
   "version": "3.8.5"
  }
 },
 "nbformat": 4,
 "nbformat_minor": 4
}
