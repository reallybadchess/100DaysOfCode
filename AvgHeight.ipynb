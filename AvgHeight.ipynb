{
 "cells": [
  {
   "cell_type": "markdown",
   "metadata": {},
   "source": [
    "## For loops\n",
    "\n",
    "This program calculates the avg student height from a list of heights"
   ]
  },
  {
   "cell_type": "code",
   "execution_count": null,
   "metadata": {},
   "outputs": [],
   "source": [
    "student_heights = input(\"Input a list of student heights: \").split()\n",
    "\n",
    "for n in range(0, len(student_heights):\n",
    "    student_heights[0] = int(student_heights[n])\n",
    "    \n",
    "\n",
    "\n",
    "\n",
    "\n"
   ]
  },
  {
   "cell_type": "code",
   "execution_count": 24,
   "metadata": {},
   "outputs": [
    {
     "name": "stdout",
     "output_type": "stream",
     "text": [
      "Input a list of student heights 180 124 165 173 189 169 146\n",
      "1146\n"
     ]
    }
   ],
   "source": [
    "# 🚨 Don't change the code below 👇\n",
    "student_heights = input(\"Input a list of student heights \").split()\n",
    "for n in range(0, len(student_heights)):\n",
    "  student_heights[n] = int(student_heights[n])\n",
    "  \n",
    "# 🚨 Don't change the code above 👆\n",
    "# 180 124 165 173 189 169 146\n",
    "\n",
    "#Write your code below this row 👇\n",
    "\n",
    "total_height = 0\n",
    "\n",
    "#loop to sum all heights\n",
    "for height in student_heights:\n",
    "    total_height += height\n",
    "    \n",
    "#prints the sum    \n",
    "print(total_height)\n",
    "\n"
   ]
  },
  {
   "cell_type": "code",
   "execution_count": 27,
   "metadata": {},
   "outputs": [
    {
     "name": "stdout",
     "output_type": "stream",
     "text": [
      "7\n"
     ]
    }
   ],
   "source": [
    "#We can do the same for the len() function\n",
    "\n",
    "num_students = 0\n",
    "for item in student_heights:\n",
    "    # We can add 1 to every time the for loop runs\n",
    "    num_students += 1\n",
    "print(num_students)"
   ]
  },
  {
   "cell_type": "code",
   "execution_count": 32,
   "metadata": {},
   "outputs": [
    {
     "name": "stdout",
     "output_type": "stream",
     "text": [
      "The average student height is 164 cm.\n"
     ]
    }
   ],
   "source": [
    "# Finally we cacn calculate the average height making sure we use round()\n",
    "\n",
    "average_height = round(total_height/num_students)\n",
    "print(f\"The average student height is {average_height} cm.\")"
   ]
  },
  {
   "cell_type": "code",
   "execution_count": null,
   "metadata": {},
   "outputs": [],
   "source": []
  }
 ],
 "metadata": {
  "kernelspec": {
   "display_name": "Python 3",
   "language": "python",
   "name": "python3"
  },
  "language_info": {
   "codemirror_mode": {
    "name": "ipython",
    "version": 3
   },
   "file_extension": ".py",
   "mimetype": "text/x-python",
   "name": "python",
   "nbconvert_exporter": "python",
   "pygments_lexer": "ipython3",
   "version": "3.8.5"
  }
 },
 "nbformat": 4,
 "nbformat_minor": 4
}
